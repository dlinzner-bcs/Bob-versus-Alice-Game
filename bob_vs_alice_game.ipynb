{
 "cells": [
  {
   "cell_type": "code",
   "execution_count": 6,
   "id": "b0abe39d-54b1-42c0-9003-bd41e7859044",
   "metadata": {},
   "outputs": [],
   "source": [
    "import numpy as np"
   ]
  },
  {
   "cell_type": "code",
   "execution_count": 7,
   "id": "5c5397b2-4736-4c98-b415-5a568e1e131d",
   "metadata": {},
   "outputs": [],
   "source": [
    "n_games = 8\n",
    "n_wins_alice = 5\n",
    "p_grid = np.linspace(0.001,0.999,10000)"
   ]
  },
  {
   "cell_type": "code",
   "execution_count": 8,
   "id": "10c5c541-ff65-497f-8727-67346f9eaa64",
   "metadata": {},
   "outputs": [
    {
     "name": "stdout",
     "output_type": "stream",
     "text": [
      "maximum likelihood solution 0.05272931215573005\n"
     ]
    }
   ],
   "source": [
    "f_llh = lambda x: 3*np.log(1-x)+5*np.log(x)\n",
    "llh = f_llh(p_grid)\n",
    "p_max = p_grid[np.argmax(llh)]\n",
    "print(f\"maximum likelihood solution {(1-p_max)**3}\")"
   ]
  },
  {
   "cell_type": "code",
   "execution_count": 9,
   "id": "e5d69f91-11d9-4222-a190-762f415a2fea",
   "metadata": {},
   "outputs": [
    {
     "name": "stdout",
     "output_type": "stream",
     "text": [
      "maximum a-posteriori solution 0.05272931215573005\n"
     ]
    }
   ],
   "source": [
    "f_prior = lambda x,a,b: (a-1)*np.log(x)+ (b-1)*np.log(1-x)\n",
    "log_posterior_unnormalized = f_prior(p_grid,1,1)+f_llh(p_grid)\n",
    "p_max = p_grid[np.argmax(log_posterior_unnormalized)]\n",
    "print(f\"maximum a-posteriori solution {(1-p_max)**3}\")"
   ]
  },
  {
   "cell_type": "code",
   "execution_count": 10,
   "id": "70d16fb6-481e-47dc-9889-2d7ef2ad59f2",
   "metadata": {},
   "outputs": [
    {
     "name": "stdout",
     "output_type": "stream",
     "text": [
      "bayesian solution 0.09090909091833801\n"
     ]
    }
   ],
   "source": [
    "posterior_unnormalized = np.exp(log_posterior_unnormalized-min(log_posterior_unnormalized))\n",
    "posterior = posterior_unnormalized/np.sum(posterior_unnormalized)\n",
    "p_bob_wins= sum(((1-p_grid)**3)*posterior)\n",
    "print(f\"bayesian solution {p_bob_wins}\")"
   ]
  },
  {
   "cell_type": "markdown",
   "id": "ff918313-a663-48e7-904c-828392fb0bc0",
   "metadata": {},
   "source": [
    "### conceptual difference is approximating expectation over p with maximum likelihood/ a-posterior estimate\n",
    "### ->Laplace approximation"
   ]
  },
  {
   "cell_type": "code",
   "execution_count": null,
   "id": "cb2fc110-0369-4345-bb95-45caf2c93789",
   "metadata": {},
   "outputs": [],
   "source": []
  },
  {
   "cell_type": "code",
   "execution_count": null,
   "id": "18fcc7c7-630c-42e1-891b-cb65143c9ed7",
   "metadata": {},
   "outputs": [],
   "source": []
  }
 ],
 "metadata": {
  "kernelspec": {
   "display_name": "Python 3 (ipykernel)",
   "language": "python",
   "name": "python3"
  },
  "language_info": {
   "codemirror_mode": {
    "name": "ipython",
    "version": 3
   },
   "file_extension": ".py",
   "mimetype": "text/x-python",
   "name": "python",
   "nbconvert_exporter": "python",
   "pygments_lexer": "ipython3",
   "version": "3.8.10"
  }
 },
 "nbformat": 4,
 "nbformat_minor": 5
}
